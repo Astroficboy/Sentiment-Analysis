{
 "cells": [
  {
   "cell_type": "code",
   "execution_count": 1,
   "id": "99370898",
   "metadata": {},
   "outputs": [],
   "source": [
    "import PyPDF2\n",
    "import matplotlib.pyplot as plt\n",
    "import csv\n",
    "import pandas as pd\n",
    "from textblob import TextBlob as txt"
   ]
  },
  {
   "cell_type": "code",
   "execution_count": 96,
   "id": "75fd5903",
   "metadata": {
    "scrolled": true
   },
   "outputs": [
    {
     "name": "stdout",
     "output_type": "stream",
     "text": [
      "137\n"
     ]
    }
   ],
   "source": [
    "pdf_file = open('West-Side-Story.pdf', 'rb')\n",
    "read_pdf = PyPDF2.PdfFileReader(pdf_file)\n",
    "number_of_pages = read_pdf.getNumPages()\n",
    "content = []\n",
    "for i in range(0, number_of_pages):\n",
    "    page = read_pdf.getPage(i-1)\n",
    "    content.append(page)\n",
    "print(len(content))"
   ]
  },
  {
   "cell_type": "code",
   "execution_count": 97,
   "id": "3ad3ccbb",
   "metadata": {},
   "outputs": [
    {
     "name": "stdout",
     "output_type": "stream",
     "text": [
      "     135.MARêA(CONTÕD)\n",
      "All of you? I can kill now because I hate now.She points the gun at Quique and the other Sharks. MARêA(CONTÕD)\n",
      "I hate now.Then she faces Chino again. MARêA(CONTÕD)\n",
      "How many can I kill, Chino? And still have one bullet left for me?Mar™a stares at the gun, then she forces herself to look back at TonyÕs body. ItÕs very hard for her to do this. She drops the gun and runs back to him. She throws herself over him and  kisses him. MARêA(CONTÕD)\n",
      "Te adoro, Anton. Ice goes to TonyÕs body. Tiger, Big Deal and Diesel approach, then hesitate and stop as Ice tries to help Mar™a stand. She pulls away and throws herself protectively across Tony.MARêA(CONTÕD)\n",
      "No, donÕt touch him! Ice steps back. Braulio comes forward, leans down to Mar™a and whispers to her. BRAULIOMar™a, ya es tiempo. Vente con nosotros.She lets him help her to her feet. Anybodys goes to Ice and leads him back to TonyÕs body. As Anybodys kneels by TonyÕs head and lays his arms across his chest, Ice looks to Big Deal, Tiger and Diesel. They join him in lifting Tony. Anybodys supports TonyÕs head, Ice and Tiger his shoulders, Big Deal and Diesel his lower torso and legs.As they carry him, one of his arms slips, dangling lifeless and heavy at his side. Chago moves in, carefully raising TonyÕs arm and returning it to his chest. Then Quique joins to support TonyÕs legs, next to Big Deal, while Chucho moves in next to Diesel to do the same. Braulio walks in front as Chago, Anybodys, Ice, Big Deal, Chucho, Quique, Tiger and Diesel carry TonyÕs body down the street, past the ruined buildings. Mar™a follows behind. Valentina walks slowly in the other direction; as she passes the cortege, she crosses herself. As she passes the gun, she picks it up and puts it in her coat pocket.      135.\n"
     ]
    }
   ],
   "source": [
    "newfile = open(r'West-Side-Story.txt', 'a', encoding=\"utf-8\")\n",
    "for i in content:\n",
    "    page_content = i.extractText()\n",
    "    write = newfile.writelines(page_content)\n",
    "newfile.close()\n",
    "print (page_content)"
   ]
  },
  {
   "cell_type": "code",
   "execution_count": 98,
   "id": "e6f8e077",
   "metadata": {},
   "outputs": [
    {
     "name": "stdout",
     "output_type": "stream",
     "text": [
      "-0.09918300653594771 ,  0.2545751633986928\n"
     ]
    }
   ],
   "source": [
    "title = 'West-Side-Story.txt'\n",
    "file = open(title, 'r', encoding='latin-1')\n",
    "pol = lambda x: txt(x).sentiment.polarity\n",
    "sub = lambda x: txt(x).sentiment.subjectivity\n",
    "for i in file:\n",
    "    polarity = pol(i)\n",
    "    subjectivity = sub(i)\n",
    "movie_name = title.split('.')\n",
    "print(polarity,', ', subjectivity)"
   ]
  },
  {
   "cell_type": "code",
   "execution_count": 58,
   "id": "90920f1e",
   "metadata": {},
   "outputs": [],
   "source": [
    "with open('sentiments.csv', 'a', newline='') as f:\n",
    "    thewriter = csv.writer(f)\n",
    "    thewriter.writerow(['Movie_name', 'Polarity', 'Subjectivity'])\n",
    "    "
   ]
  },
  {
   "cell_type": "code",
   "execution_count": 99,
   "id": "a592401a",
   "metadata": {},
   "outputs": [],
   "source": [
    "with open('sentiments.csv', 'a', newline='') as f:\n",
    "    thewriter = csv.writer(f)\n",
    "    thewriter.writerow([movie_name[0], polarity, subjectivity])"
   ]
  },
  {
   "cell_type": "code",
   "execution_count": 102,
   "id": "7278f615",
   "metadata": {},
   "outputs": [
    {
     "data": {
      "text/html": [
       "<div>\n",
       "<style scoped>\n",
       "    .dataframe tbody tr th:only-of-type {\n",
       "        vertical-align: middle;\n",
       "    }\n",
       "\n",
       "    .dataframe tbody tr th {\n",
       "        vertical-align: top;\n",
       "    }\n",
       "\n",
       "    .dataframe thead th {\n",
       "        text-align: right;\n",
       "    }\n",
       "</style>\n",
       "<table border=\"1\" class=\"dataframe\">\n",
       "  <thead>\n",
       "    <tr style=\"text-align: right;\">\n",
       "      <th></th>\n",
       "      <th>Movie_name</th>\n",
       "      <th>Polarity</th>\n",
       "      <th>Subjectivity</th>\n",
       "    </tr>\n",
       "  </thead>\n",
       "  <tbody>\n",
       "    <tr>\n",
       "      <th>0</th>\n",
       "      <td>dont look up</td>\n",
       "      <td>0.06440045049232657</td>\n",
       "      <td>0.4673317534506674</td>\n",
       "    </tr>\n",
       "    <tr>\n",
       "      <th>1</th>\n",
       "      <td>coda</td>\n",
       "      <td>0.06858489388022629</td>\n",
       "      <td>0.5138331180496785</td>\n",
       "    </tr>\n",
       "    <tr>\n",
       "      <th>2</th>\n",
       "      <td>belfast</td>\n",
       "      <td>0.06411561775815663</td>\n",
       "      <td>0.46731080585710877</td>\n",
       "    </tr>\n",
       "    <tr>\n",
       "      <th>4</th>\n",
       "      <td>dune</td>\n",
       "      <td>0.0</td>\n",
       "      <td>0.0</td>\n",
       "    </tr>\n",
       "    <tr>\n",
       "      <th>5</th>\n",
       "      <td>king richard</td>\n",
       "      <td>0.09541444245014412</td>\n",
       "      <td>0.47154905277202264</td>\n",
       "    </tr>\n",
       "    <tr>\n",
       "      <th>6</th>\n",
       "      <td>nightmare alley</td>\n",
       "      <td>0.040411323699843606</td>\n",
       "      <td>0.5441247381423896</td>\n",
       "    </tr>\n",
       "    <tr>\n",
       "      <th>9</th>\n",
       "      <td>The-Power-of-the-Dog</td>\n",
       "      <td>0.07761473208888252</td>\n",
       "      <td>0.4695051486498535</td>\n",
       "    </tr>\n",
       "    <tr>\n",
       "      <th>10</th>\n",
       "      <td>West-Side-Story</td>\n",
       "      <td>-0.09918300653594771</td>\n",
       "      <td>0.2545751633986928</td>\n",
       "    </tr>\n",
       "  </tbody>\n",
       "</table>\n",
       "</div>"
      ],
      "text/plain": [
       "              Movie_name              Polarity         Subjectivity\n",
       "0           dont look up   0.06440045049232657   0.4673317534506674\n",
       "1                   coda   0.06858489388022629   0.5138331180496785\n",
       "2                belfast   0.06411561775815663  0.46731080585710877\n",
       "4                   dune                   0.0                  0.0\n",
       "5           king richard   0.09541444245014412  0.47154905277202264\n",
       "6        nightmare alley  0.040411323699843606   0.5441247381423896\n",
       "9   The-Power-of-the-Dog   0.07761473208888252   0.4695051486498535\n",
       "10       West-Side-Story  -0.09918300653594771   0.2545751633986928"
      ]
     },
     "execution_count": 102,
     "metadata": {},
     "output_type": "execute_result"
    }
   ],
   "source": [
    "data = pd.read_csv('sentiments.csv')\n",
    "data = data.drop(data.index[[3, 7, 8]])\n",
    "data.head(11)"
   ]
  },
  {
   "cell_type": "code",
   "execution_count": 104,
   "id": "1c4ebd7a",
   "metadata": {},
   "outputs": [],
   "source": [
    "import numpy as np"
   ]
  },
  {
   "cell_type": "code",
   "execution_count": 107,
   "id": "b2d8862a",
   "metadata": {},
   "outputs": [
    {
     "data": {
      "image/png": "[encoded data removed]",
      "text/plain": [
       "<Figure size 720x576 with 1 Axes>"
      ]
     },
     "metadata": {
      "needs_background": "light"
     },
     "output_type": "display_data"
    }
   ],
   "source": [
    "plt.rcParams['figure.figsize'] = [10, 8]\n",
    "x = data['Polarity']\n",
    "y = data['Subjectivity']\n",
    "plt.scatter(x, y, color = 'blue')\n",
    "\n",
    "#plt.text(x=0.001, y= 0.001, fontsize=10)\n",
    "#plt.xlim(-.01, .5)\n",
    "#plt.xscale('log')\n",
    "#plt.yscale('log')\n",
    "plt.title('Sentiment Analysis 2022 Oscar movies', fontsize=20)\n",
    "plt.xlabel('<-- Negative ---------- Positive -->', fontsize = 15)\n",
    "plt.ylabel('<-- Facts ---------- Opinions -->', fontsize=15)\n",
    "plt.tight_layout()\n",
    "plt.show()"
   ]
  },
  {
   "cell_type": "code",
   "execution_count": null,
   "id": "e731fa2b",
   "metadata": {},
   "outputs": [],
   "source": []
  }
 ],
 "metadata": {
  "kernelspec": {
   "display_name": "Python 3",
   "language": "python",
   "name": "python3"
  },
  "language_info": {
   "codemirror_mode": {
    "name": "ipython",
    "version": 3
   },
   "file_extension": ".py",
   "mimetype": "text/x-python",
   "name": "python",
   "nbconvert_exporter": "python",
   "pygments_lexer": "ipython3",
   "version": "3.8.3"
  }
 },
 "nbformat": 4,
 "nbformat_minor": 5
}
